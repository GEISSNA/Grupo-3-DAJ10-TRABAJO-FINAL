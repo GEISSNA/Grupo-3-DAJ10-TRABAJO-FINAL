{
  "nbformat": 4,
  "nbformat_minor": 0,
  "metadata": {
    "colab": {
      "provenance": []
    },
    "kernelspec": {
      "name": "python3",
      "display_name": "Python 3"
    },
    "language_info": {
      "name": "python"
    }
  },
  "cells": [
    {
      "cell_type": "markdown",
      "source": [
        "### **1. Conectar con la Base de Datos**                                        \n",
        "Se detallan los parametros para realizar la conexión:                            \n",
        "\n",
        "*   **Host:** Dirección del servidor de la base de datos\n",
        "*   **Puerto:** Puerto 5432\n",
        "*   Nombre de la base de datos\n",
        "*   Usuario\n",
        "*   Contraseña"
      ],
      "metadata": {
        "id": "gJPQQcUR_oyq"
      }
    },
    {
      "cell_type": "code",
      "source": [
        "import psycopg2\n",
        "import pandas as pd\n",
        "\n",
        "# Parámetros de conexión a PostgreSQL\n",
        "host = 'colocar nombre de host'\n",
        "port = '5432'  # Puerto por defecto\n",
        "dbname = 'rsm'\n",
        "user = 'postgres'\n",
        "password = 'colocar constraseña'\n",
        "\n",
        "# Establecer la conexión\n",
        "conn = psycopg2.connect(host=host, port=port, dbname=dbname, user=user, password=password)\n",
        "\n",
        "# Crear un cursor para ejecutar consultas SQL\n",
        "cursor = conn.cursor()\n"
      ],
      "metadata": {
        "id": "5kiDs0kZBnR5"
      },
      "execution_count": null,
      "outputs": []
    },
    {
      "cell_type": "markdown",
      "source": [
        "### **2. Código para obetner los datos SQL**"
      ],
      "metadata": {
        "id": "p9GbD-Y0C5yt"
      }
    },
    {
      "cell_type": "code",
      "source": [
        "# Consulta SQL para obtener datos de ventas, productos y clientes\n",
        "query = \"\"\"\n",
        "    SELECT v.VentaID, v.ClienteID, v.ProductoID, v.Cantidad, v.FechaVenta, v.Region, v.VentaTotal,\n",
        "           c.NombreCliente, c.Email, p.NombreProducto, p.PrecioUnitario\n",
        "    FROM Ventas v\n",
        "    JOIN Clientes c ON v.ClienteID = c.ClienteID\n",
        "    JOIN Productos p ON v.ProductoID = p.ProductoID\n",
        "    ORDER BY v.FechaVenta;\n",
        "\"\"\"\n",
        "\n",
        "# Ejecutar la consulta y cargar los resultados en un DataFrame\n",
        "ventas_df = pd.read_sql(query, conn)\n",
        "\n",
        "# Mostrar las primeras filas del DataFrame\n",
        "ventas_df.head()\n"
      ],
      "metadata": {
        "id": "JkI0f-6GDK8k"
      },
      "execution_count": null,
      "outputs": []
    },
    {
      "cell_type": "markdown",
      "source": [
        "### **3. Identificación de Patrones, Tendencias y Anomalías**"
      ],
      "metadata": {
        "id": "pG2xXwUJEk4W"
      }
    },
    {
      "cell_type": "markdown",
      "source": [
        "**3.1 Código para análisis de series temporales (ventas por mes)**"
      ],
      "metadata": {
        "id": "MaPUA94ZFG3-"
      }
    },
    {
      "cell_type": "code",
      "source": [
        "# Convertir la columna FechaVenta a formato datetime\n",
        "ventas_df['FechaVenta'] = pd.to_datetime(ventas_df['FechaVenta'])\n",
        "\n",
        "# Agrupar las ventas por mes\n",
        "ventas_df['Mes'] = ventas_df['FechaVenta'].dt.to_period('M')\n",
        "ventas_mensuales = ventas_df.groupby('Mes')['VentaTotal'].sum().reset_index()\n",
        "\n",
        "# Visualizar las tendencias de ventas mensuales\n",
        "import matplotlib.pyplot as plt\n",
        "\n",
        "plt.figure(figsize=(10, 6))\n",
        "plt.plot(ventas_mensuales['Mes'].astype(str), ventas_mensuales['VentaTotal'], marker='o', color='b')\n",
        "plt.title('Ventas Totales por Mes')\n",
        "plt.xlabel('Mes')\n",
        "plt.ylabel('Ventas Totales')\n",
        "plt.xticks(rotation=45)\n",
        "plt.grid(True)\n",
        "plt.show()"
      ],
      "metadata": {
        "id": "DJBjMoF_FQGy"
      },
      "execution_count": null,
      "outputs": []
    },
    {
      "cell_type": "markdown",
      "source": [
        "**3.2 Código para clasificar clientes según frecuencia de compra**"
      ],
      "metadata": {
        "id": "xXZj_C0SFt0r"
      }
    },
    {
      "cell_type": "code",
      "source": [
        "# Segmentación de Clientes: Gasto Total por Cliente\n",
        "clientes_segmentados = ventas_df.groupby('ClienteID').agg(\n",
        "    TotalCompras=('VentaTotal', 'count'),\n",
        "    GastoTotal=('VentaTotal', 'sum'),\n",
        "    GastoPromedio=('VentaTotal', 'mean')\n",
        ").reset_index()\n",
        "\n",
        "# Visualizar el Top 10 clientes con mayor gasto total\n",
        "plt.figure(figsize=(10, 6))\n",
        "clientes_segmentados_sorted = clientes_segmentados.sort_values(by='GastoTotal', ascending=False).head(10)\n",
        "plt.bar(clientes_segmentados_sorted['ClienteID'], clientes_segmentados_sorted['GastoTotal'], color='orange')\n",
        "plt.title('Top 10 Clientes con Mayor Gasto Total')\n",
        "plt.xlabel('Cliente ID')\n",
        "plt.ylabel('Gasto Total')\n",
        "plt.xticks(rotation=45)\n",
        "plt.show()"
      ],
      "metadata": {
        "id": "vQmt85OMGE1I"
      },
      "execution_count": null,
      "outputs": []
    },
    {
      "cell_type": "markdown",
      "source": [
        "**3.3 Código para identificar picos de ventas**"
      ],
      "metadata": {
        "id": "DfQhDP2NGP9Q"
      }
    },
    {
      "cell_type": "code",
      "source": [
        "# Identificación de Anomalías\n",
        "mean_sales = ventas_df['VentaTotal'].mean()\n",
        "std_sales = ventas_df['VentaTotal'].std()\n",
        "\n",
        "# Detectamos las anomalías (ventas fuera de 2 desviaciones estándar)\n",
        "ventas_df['Anomalia'] = (ventas_df['VentaTotal'] > mean_sales + 2 * std_sales) | (ventas_df['VentaTotal'] < mean_sales - 2 * std_sales)\n",
        "anomalies = ventas_df[ventas_df['Anomalia'] == True]\n",
        "\n",
        "# Visualizar las ventas diarias con anomalías\n",
        "plt.figure(figsize=(10, 6))\n",
        "plt.plot(ventas_df['FechaVenta'], ventas_df['VentaTotal'], label='Ventas Diarias')\n",
        "plt.scatter(anomalies['FechaVenta'], anomalies['VentaTotal'], color='r', label='Anomalías', zorder=5)\n",
        "plt.title('Ventas Diarias con Anomalías')\n",
        "plt.xlabel('Fecha')\n",
        "plt.ylabel('Ventas')\n",
        "plt.legend()\n",
        "plt.xticks(rotation=45)\n",
        "plt.show()"
      ],
      "metadata": {
        "id": "YJ0h_nLxGZBI"
      },
      "execution_count": null,
      "outputs": []
    },
    {
      "cell_type": "markdown",
      "source": [
        "### **4. Cerrar la Conexión a la Base de Datos**"
      ],
      "metadata": {
        "id": "u37hQfoeGsyz"
      }
    },
    {
      "cell_type": "code",
      "source": [
        "# Cerrar la conexión\n",
        "cursor.close()\n",
        "conn.close()"
      ],
      "metadata": {
        "id": "nG-SEJQSGw3C"
      },
      "execution_count": null,
      "outputs": []
    }
  ]
}